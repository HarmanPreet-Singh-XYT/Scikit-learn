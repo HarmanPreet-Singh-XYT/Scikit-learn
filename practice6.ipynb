{
 "cells": [
  {
   "cell_type": "code",
   "execution_count": 81,
   "id": "d1bf4dac",
   "metadata": {},
   "outputs": [
    {
     "name": "stderr",
     "output_type": "stream",
     "text": [
      "<>:2: SyntaxWarning: invalid escape sequence '\\e'\n",
      "<>:2: SyntaxWarning: invalid escape sequence '\\e'\n",
      "C:\\Users\\preet\\AppData\\Local\\Temp\\ipykernel_6316\\758398634.py:2: SyntaxWarning: invalid escape sequence '\\e'\n",
      "  data = pd.read_csv(\"data\\enhanced_fever_medicine_recommendation.csv\")\n"
     ]
    }
   ],
   "source": [
    "import pandas as pd\n",
    "data = pd.read_csv(\"data\\enhanced_fever_medicine_recommendation.csv\")\n",
    "df = data.copy()\n",
    "df.fillna({\"Previous_Medication\":\"None\"},inplace=True)"
   ]
  },
  {
   "cell_type": "code",
   "execution_count": 82,
   "id": "b03ebdb3",
   "metadata": {},
   "outputs": [],
   "source": [
    "from sklearn.preprocessing import OrdinalEncoder,OneHotEncoder,StandardScaler\n",
    "ordinal_features = [\"Physical_Activity\",\"Blood_Pressure\"]\n",
    "nomincal_features = [\"Smoking_History\",\"Alcohol_Consumption\",\"Gender\",\"Diet_Type\"]\n",
    "numeric_features = [\"BMI\",\"Age\",\"Heart_Rate\"]\n",
    "\n",
    "ordinal_categories = [\n",
    "    [\"Sedentary\",\"Moderate\",\"Active\"],\n",
    "    [\"Low\",\"Normal\",\"High\"],\n",
    "]\n",
    "\n",
    "numeric_transformer = StandardScaler()\n",
    "nomincal_transformer = OneHotEncoder(handle_unknown=\"ignore\")\n",
    "ordinal_transformer = OrdinalEncoder(categories=ordinal_categories)"
   ]
  },
  {
   "cell_type": "code",
   "execution_count": 83,
   "id": "c6a07ab1",
   "metadata": {},
   "outputs": [],
   "source": [
    "from sklearn.compose import ColumnTransformer\n",
    "from sklearn.pipeline import Pipeline\n",
    "from sklearn.neighbors import KNeighborsClassifier\n",
    "\n",
    "preprocessor = ColumnTransformer(\n",
    "    transformers=[\n",
    "        (\"num\",numeric_transformer,numeric_features),\n",
    "        (\"nom\",nomincal_transformer,nomincal_features),\n",
    "        (\"ord\",ordinal_transformer,ordinal_features)\n",
    "    ]\n",
    ")\n",
    "\n",
    "clf = Pipeline(\n",
    "    steps=[\n",
    "        (\"preprocessor\",preprocessor),\n",
    "        (\"classifier\",KNeighborsClassifier(n_neighbors=3))\n",
    "    ]\n",
    ")"
   ]
  },
  {
   "cell_type": "code",
   "execution_count": 84,
   "id": "b990cbca",
   "metadata": {},
   "outputs": [],
   "source": [
    "from sklearn.model_selection import train_test_split\n",
    "from sklearn.preprocessing import LabelEncoder\n",
    "le = LabelEncoder()\n",
    "\n",
    "X = df.drop(columns=[\"Chronic_Conditions\"],axis=1)\n",
    "y = le.fit_transform(df[\"Chronic_Conditions\"])\n",
    "\n",
    "X_train,X_test,y_train,y_test = train_test_split(X,y,test_size=0.2,random_state=42)\n",
    "clf.fit(X_train,y_train)\n",
    "\n",
    "prediction = clf.predict(X_test)"
   ]
  },
  {
   "cell_type": "code",
   "execution_count": 85,
   "id": "bdacacad",
   "metadata": {},
   "outputs": [
    {
     "name": "stdout",
     "output_type": "stream",
     "text": [
      "Accuracy Score:  0.53\n",
      "Precision Score:  0.5225225225225225\n",
      "F1 Score:  0.5523809523809524\n",
      "Confusion Matrix:  [[48 53]\n",
      " [41 58]]\n"
     ]
    }
   ],
   "source": [
    "from sklearn.metrics import confusion_matrix,accuracy_score,precision_score,f1_score\n",
    "print(\"Accuracy Score: \",accuracy_score(y_test,prediction))\n",
    "print(\"Precision Score: \",precision_score(y_test,prediction))\n",
    "print(\"F1 Score: \",f1_score(y_test,prediction))\n",
    "print(\"Confusion Matrix: \",confusion_matrix(y_test,prediction))"
   ]
  }
 ],
 "metadata": {
  "kernelspec": {
   "display_name": "venv",
   "language": "python",
   "name": "python3"
  },
  "language_info": {
   "codemirror_mode": {
    "name": "ipython",
    "version": 3
   },
   "file_extension": ".py",
   "mimetype": "text/x-python",
   "name": "python",
   "nbconvert_exporter": "python",
   "pygments_lexer": "ipython3",
   "version": "3.13.3"
  }
 },
 "nbformat": 4,
 "nbformat_minor": 5
}
