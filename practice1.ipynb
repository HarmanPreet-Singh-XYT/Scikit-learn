{
 "cells": [
  {
   "cell_type": "code",
   "execution_count": 6,
   "id": "4fa60f7d",
   "metadata": {},
   "outputs": [],
   "source": [
    "import pandas as pd\n",
    "from sklearn.preprocessing import MinMaxScaler,StandardScaler,LabelEncoder\n",
    "from sklearn.model_selection import train_test_split\n",
    "\n",
    "data = {\n",
    "    \"Students\":[4,5,1,2,5],\n",
    "    \"Scores\":[230,123,32,111,123]\n",
    "}\n",
    "df = pd.DataFrame(data=data)"
   ]
  },
  {
   "cell_type": "code",
   "execution_count": 2,
   "id": "ee65bbc5",
   "metadata": {},
   "outputs": [
    {
     "name": "stdout",
     "output_type": "stream",
     "text": [
      "   Students  Scores\n",
      "0         4     230\n",
      "1         5     123\n",
      "2         1      32\n",
      "3         2     111\n",
      "4         5     123\n"
     ]
    }
   ],
   "source": [
    "minMaxScaler = MinMaxScaler()\n",
    "minMaxScaled = minMaxScaler.fit_transform(df)\n",
    "\n",
    "print(pd.DataFrame(df,columns=[\"Students\",\"Scores\"]))"
   ]
  },
  {
   "cell_type": "code",
   "execution_count": 3,
   "id": "e48e9e32",
   "metadata": {},
   "outputs": [
    {
     "name": "stdout",
     "output_type": "stream",
     "text": [
      "   Students  Scores\n",
      "0         4     230\n",
      "1         5     123\n",
      "2         1      32\n",
      "3         2     111\n",
      "4         5     123\n"
     ]
    }
   ],
   "source": [
    "standardScaler = StandardScaler()\n",
    "standardScaled = standardScaler.fit_transform(df)\n",
    "\n",
    "print(pd.DataFrame(df,columns=[\"Students\",\"Scores\"]))"
   ]
  },
  {
   "cell_type": "code",
   "execution_count": 4,
   "id": "af1e0beb",
   "metadata": {},
   "outputs": [
    {
     "name": "stdout",
     "output_type": "stream",
     "text": [
      "Shape of X_train: (4,)\n",
      "Shape of X_test: (1,)\n",
      "Shape of y_train: (4,)\n",
      "Shape of y_test: (1,)\n"
     ]
    }
   ],
   "source": [
    "x = df[\"Students\"]\n",
    "y = df[\"Scores\"]\n",
    "x_train,x_test,y_train,y_test = train_test_split(x,y,test_size=0.2,random_state=42)\n",
    "print(f\"Shape of X_train: {x_train.shape}\")\n",
    "print(f\"Shape of X_test: {x_test.shape}\")\n",
    "print(f\"Shape of y_train: {y_train.shape}\")\n",
    "print(f\"Shape of y_test: {y_test.shape}\")"
   ]
  },
  {
   "cell_type": "code",
   "execution_count": 13,
   "id": "c5956145",
   "metadata": {},
   "outputs": [
    {
     "name": "stdout",
     "output_type": "stream",
     "text": [
      "      Name  Gender       City Passed  Gender_Encoded  Passed_Encoded\n",
      "0     Aman    Male      Delhi    Yes               1               1\n",
      "1    Priya  Female     Mumbai    Yes               0               1\n",
      "2    Rahul    Male  Bangalore     No               1               0\n",
      "3   Anjali  Female     Mumbai    Yes               0               1\n",
      "4     Ravi    Male      Delhi    Yes               1               1\n",
      "5    Meera  Female    Chennai     No               0               0\n",
      "6    Arjun    Male  Bangalore    Yes               1               1\n",
      "7     Neha  Female      Delhi    Yes               0               1\n",
      "8    Imran    Male    Chennai     No               1               0\n",
      "9    Sneha  Female     Mumbai    Yes               0               1\n",
      "10     Raj    Male    Chennai    Yes               1               1\n",
      "11   Divya  Female      Delhi     No               0               0\n",
      "12   Kabir    Male     Mumbai    Yes               1               1\n",
      "13  Simran  Female  Bangalore    Yes               0               1\n",
      "14   Karan    Male      Delhi     No               1               0\n",
      "15   Pooja  Female     Mumbai    Yes               0               1\n",
      "16  Rakesh    Male    Chennai    Yes               1               1\n",
      "17    Isha  Female      Delhi     No               0               0\n",
      "18   Rohit    Male      Delhi    Yes               1               1\n",
      "19   Deepa  Female  Bangalore    Yes               0               1\n"
     ]
    }
   ],
   "source": [
    "data = pd.read_csv(\"sample_data.csv\")\n",
    "df_label = data.copy()\n",
    "\n",
    "le = LabelEncoder()\n",
    "df_label[\"Gender_Encoded\"] = le.fit_transform(df_label[\"Gender\"])\n",
    "df_label[\"Passed_Encoded\"] = le.fit_transform(df_label[\"Passed\"])\n",
    "print(df_label)"
   ]
  },
  {
   "cell_type": "code",
   "execution_count": 12,
   "id": "6d44a298",
   "metadata": {},
   "outputs": [
    {
     "name": "stdout",
     "output_type": "stream",
     "text": [
      "      Name  Gender Passed  Gender_Encoded  City_Bangalore  City_Chennai  \\\n",
      "0     Aman    Male    Yes               1           False         False   \n",
      "1    Priya  Female    Yes               0           False         False   \n",
      "2    Rahul    Male     No               1            True         False   \n",
      "3   Anjali  Female    Yes               0           False         False   \n",
      "4     Ravi    Male    Yes               1           False         False   \n",
      "5    Meera  Female     No               0           False          True   \n",
      "6    Arjun    Male    Yes               1            True         False   \n",
      "7     Neha  Female    Yes               0           False         False   \n",
      "8    Imran    Male     No               1           False          True   \n",
      "9    Sneha  Female    Yes               0           False         False   \n",
      "10     Raj    Male    Yes               1           False          True   \n",
      "11   Divya  Female     No               0           False         False   \n",
      "12   Kabir    Male    Yes               1           False         False   \n",
      "13  Simran  Female    Yes               0            True         False   \n",
      "14   Karan    Male     No               1           False         False   \n",
      "15   Pooja  Female    Yes               0           False         False   \n",
      "16  Rakesh    Male    Yes               1           False          True   \n",
      "17    Isha  Female     No               0           False         False   \n",
      "18   Rohit    Male    Yes               1           False         False   \n",
      "19   Deepa  Female    Yes               0            True         False   \n",
      "\n",
      "    City_Delhi  City_Mumbai  \n",
      "0         True        False  \n",
      "1        False         True  \n",
      "2        False        False  \n",
      "3        False         True  \n",
      "4         True        False  \n",
      "5        False        False  \n",
      "6        False        False  \n",
      "7         True        False  \n",
      "8        False        False  \n",
      "9        False         True  \n",
      "10       False        False  \n",
      "11        True        False  \n",
      "12       False         True  \n",
      "13       False        False  \n",
      "14        True        False  \n",
      "15       False         True  \n",
      "16       False        False  \n",
      "17        True        False  \n",
      "18        True        False  \n",
      "19       False        False  \n"
     ]
    }
   ],
   "source": [
    "onehot = pd.get_dummies(df_label,columns=[\"City\"])\n",
    "print(onehot)"
   ]
  }
 ],
 "metadata": {
  "kernelspec": {
   "display_name": "venv",
   "language": "python",
   "name": "python3"
  },
  "language_info": {
   "codemirror_mode": {
    "name": "ipython",
    "version": 3
   },
   "file_extension": ".py",
   "mimetype": "text/x-python",
   "name": "python",
   "nbconvert_exporter": "python",
   "pygments_lexer": "ipython3",
   "version": "3.13.3"
  }
 },
 "nbformat": 4,
 "nbformat_minor": 5
}
