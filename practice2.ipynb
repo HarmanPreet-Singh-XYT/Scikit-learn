{
 "cells": [
  {
   "cell_type": "code",
   "execution_count": 7,
   "id": "b112bc6d",
   "metadata": {},
   "outputs": [
    {
     "name": "stdout",
     "output_type": "stream",
     "text": [
      "   PassengerId  Survived  Pclass  \\\n",
      "0            1         0       3   \n",
      "1            2         1       1   \n",
      "2            3         1       3   \n",
      "3            4         1       1   \n",
      "4            5         0       3   \n",
      "\n",
      "                                                Name     Sex   Age  SibSp  \\\n",
      "0                            Braund, Mr. Owen Harris    male  22.0      1   \n",
      "1  Cumings, Mrs. John Bradley (Florence Briggs Th...  female  38.0      1   \n",
      "2                             Heikkinen, Miss. Laina  female  26.0      0   \n",
      "3       Futrelle, Mrs. Jacques Heath (Lily May Peel)  female  35.0      1   \n",
      "4                           Allen, Mr. William Henry    male  35.0      0   \n",
      "\n",
      "   Parch            Ticket     Fare Cabin Embarked  \n",
      "0      0         A/5 21171   7.2500   NaN        S  \n",
      "1      0          PC 17599  71.2833   C85        C  \n",
      "2      0  STON/O2. 3101282   7.9250   NaN        S  \n",
      "3      0            113803  53.1000  C123        S  \n",
      "4      0            373450   8.0500   NaN        S  \n",
      "      PassengerId  Survived  Pclass                          Name     Sex  \\\n",
      "1304         1305         0       3            Spector, Mr. Woolf    male   \n",
      "1305         1306         1       1  Oliva y Ocana, Dona. Fermina  female   \n",
      "1306         1307         0       3  Saether, Mr. Simon Sivertsen    male   \n",
      "1307         1308         0       3           Ware, Mr. Frederick    male   \n",
      "1308         1309         0       3      Peter, Master. Michael J    male   \n",
      "\n",
      "       Age  SibSp  Parch              Ticket      Fare Cabin Embarked  \n",
      "1304   NaN      0      0           A.5. 3236    8.0500   NaN        S  \n",
      "1305  39.0      0      0            PC 17758  108.9000  C105        C  \n",
      "1306  38.5      0      0  SOTON/O.Q. 3101262    7.2500   NaN        S  \n",
      "1307   NaN      0      0              359309    8.0500   NaN        S  \n",
      "1308   NaN      1      1                2668   22.3583   NaN        C  \n"
     ]
    }
   ],
   "source": [
    "import pandas as pd\n",
    "\n",
    "train = pd.read_csv(\"data/train.csv\")\n",
    "test = pd.read_csv(\"data/test.csv\")\n",
    "submission = pd.read_csv(\"data/gender_submission.csv\")\n",
    "merged_data = pd.merge(test,submission,on=\"PassengerId\")\n",
    "# Add 'Survived' column to test set to align with train\n",
    "# test[\"Survived\"] = None  \n",
    "\n",
    "# Stack them on top of each other\n",
    "data = pd.concat([train, merged_data], ignore_index=True)\n",
    "\n",
    "print(data.head())\n",
    "print(data.tail())"
   ]
  },
  {
   "cell_type": "code",
   "execution_count": 8,
   "id": "3cfa00db",
   "metadata": {},
   "outputs": [
    {
     "name": "stdout",
     "output_type": "stream",
     "text": [
      "1306\n"
     ]
    }
   ],
   "source": [
    "meanAge = data[\"Age\"].mean().__round__(1)\n",
    "# data.fillna({\"Age\": meanAge}, inplace=True)\n",
    "data.fillna({\"Age\": meanAge, \"Cabin\": 0}, inplace=True)\n",
    "data.dropna(subset=[\"Fare\",\"Embarked\",\"Cabin\"], inplace=True)\n",
    "print(len(data))"
   ]
  },
  {
   "cell_type": "code",
   "execution_count": 9,
   "id": "9602691d",
   "metadata": {},
   "outputs": [
    {
     "name": "stdout",
     "output_type": "stream",
     "text": [
      "   PassengerId  Survived  Pclass  \\\n",
      "0            1         0       3   \n",
      "1            2         1       1   \n",
      "2            3         1       3   \n",
      "3            4         1       1   \n",
      "4            5         0       3   \n",
      "\n",
      "                                                Name     Sex   Age  SibSp  \\\n",
      "0                            Braund, Mr. Owen Harris    male  22.0      1   \n",
      "1  Cumings, Mrs. John Bradley (Florence Briggs Th...  female  38.0      1   \n",
      "2                             Heikkinen, Miss. Laina  female  26.0      0   \n",
      "3       Futrelle, Mrs. Jacques Heath (Lily May Peel)  female  35.0      1   \n",
      "4                           Allen, Mr. William Henry    male  35.0      0   \n",
      "\n",
      "   Parch            Ticket     Fare Cabin  Sex_Encoded  Embarked_C  \\\n",
      "0      0         A/5 21171   7.2500     0            1       False   \n",
      "1      0          PC 17599  71.2833   C85            0        True   \n",
      "2      0  STON/O2. 3101282   7.9250     0            0       False   \n",
      "3      0            113803  53.1000  C123            0       False   \n",
      "4      0            373450   8.0500     0            1       False   \n",
      "\n",
      "   Embarked_Q  Embarked_S  \n",
      "0       False        True  \n",
      "1       False       False  \n",
      "2       False        True  \n",
      "3       False        True  \n",
      "4       False        True  \n"
     ]
    }
   ],
   "source": [
    "from sklearn.preprocessing import LabelEncoder\n",
    "le = LabelEncoder()\n",
    "data[\"Sex_Encoded\"] = le.fit_transform(data[\"Sex\"])\n",
    "data_encoded = pd.get_dummies(data,columns=[\"Embarked\"])\n",
    "print(data_encoded.head())"
   ]
  },
  {
   "cell_type": "code",
   "execution_count": 17,
   "id": "bc5907f9",
   "metadata": {},
   "outputs": [],
   "source": [
    "from sklearn.preprocessing import StandardScaler\n",
    "\n",
    "standardScaler = StandardScaler()\n",
    "standardScaled = standardScaler.fit_transform(data_encoded[[\"Fare\",\"Pclass\",\"Age\"]])\n",
    "\n",
    "data_encoded[[\"Fare\",\"Pclass\",\"Age\"]] = pd.DataFrame(standardScaled,columns=[\"Fare\",\"Pclass\",\"Age\"])\n",
    "data_encoded.dropna(inplace=True)"
   ]
  },
  {
   "cell_type": "code",
   "execution_count": 31,
   "id": "33baf552",
   "metadata": {},
   "outputs": [],
   "source": [
    "from sklearn.model_selection import train_test_split\n",
    "X = data_encoded[[\"Fare\",\"Pclass\",\"Age\",\"Sex_Encoded\"]]\n",
    "y = data_encoded[\"Survived\"]\n",
    "X_train,x_test,y_train,y_test = train_test_split(X,y,test_size=0.2,random_state=42)"
   ]
  },
  {
   "cell_type": "code",
   "execution_count": 32,
   "id": "e7b9cf20",
   "metadata": {},
   "outputs": [],
   "source": [
    "from sklearn.linear_model import LogisticRegression\n",
    "model = LogisticRegression()\n",
    "model.fit(X_train,y_train)\n",
    "\n",
    "prediction = model.predict(x_test)"
   ]
  },
  {
   "cell_type": "code",
   "execution_count": 33,
   "id": "a18ce29b",
   "metadata": {},
   "outputs": [
    {
     "name": "stdout",
     "output_type": "stream",
     "text": [
      "Accuracy Score:  87.6923076923077\n",
      "Precision Score:  84.26966292134831\n",
      "Recall Score:  80.64516129032258\n",
      "F1 Score:  82.41758241758241\n",
      "Confusion Matrix:  [[153  14]\n",
      " [ 18  75]]\n"
     ]
    }
   ],
   "source": [
    "from sklearn.metrics import accuracy_score,precision_score,recall_score,f1_score, confusion_matrix\n",
    "print(\"Accuracy Score: \",accuracy_score(y_test,prediction)*100)\n",
    "print(\"Precision Score: \",precision_score(y_test,prediction)*100)\n",
    "print(\"Recall Score: \",recall_score(y_test,prediction)*100)\n",
    "print(\"F1 Score: \",f1_score(y_test,prediction)*100)\n",
    "print(\"Confusion Matrix: \", confusion_matrix(y_test,prediction))"
   ]
  },
  {
   "cell_type": "code",
   "execution_count": 34,
   "id": "636eb81e",
   "metadata": {},
   "outputs": [
    {
     "name": "stdout",
     "output_type": "stream",
     "text": [
      "MAE: on average off by:  12.307692307692308\n",
      "MSE: Squared mistake value:  12.307692307692308\n",
      "RMSE: Final Realistic Error:  35.082320772281165\n"
     ]
    }
   ],
   "source": [
    "from sklearn.metrics import mean_absolute_error,mean_squared_error\n",
    "import numpy as np\n",
    "\n",
    "mse = mean_squared_error(y_test,prediction)\n",
    "print(\"MAE: on average off by: \",mean_absolute_error(y_test,prediction)*100)\n",
    "print(\"MSE: Squared mistake value: \",mse*100)\n",
    "print(\"RMSE: Final Realistic Error: \",np.sqrt(mse)*100)\n"
   ]
  }
 ],
 "metadata": {
  "kernelspec": {
   "display_name": "venv",
   "language": "python",
   "name": "python3"
  },
  "language_info": {
   "codemirror_mode": {
    "name": "ipython",
    "version": 3
   },
   "file_extension": ".py",
   "mimetype": "text/x-python",
   "name": "python",
   "nbconvert_exporter": "python",
   "pygments_lexer": "ipython3",
   "version": "3.13.3"
  }
 },
 "nbformat": 4,
 "nbformat_minor": 5
}
