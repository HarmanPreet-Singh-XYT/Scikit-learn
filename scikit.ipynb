{
 "cells": [
  {
   "cell_type": "code",
   "execution_count": 2,
   "id": "c545dd3f",
   "metadata": {},
   "outputs": [
    {
     "name": "stdout",
     "output_type": "stream",
     "text": [
      "\n",
      "Label Encoded Data\n",
      "      Name  Gender Passed  Gender_Encoded  Passed_Encoded\n",
      "0     Aman    Male    Yes               1               1\n",
      "1    Priya  Female    Yes               0               1\n",
      "2    Rahul    Male     No               1               0\n",
      "3   Anjali  Female    Yes               0               1\n",
      "4     Ravi    Male    Yes               1               1\n",
      "5    Meera  Female     No               0               0\n",
      "6    Arjun    Male    Yes               1               1\n",
      "7     Neha  Female    Yes               0               1\n",
      "8    Imran    Male     No               1               0\n",
      "9    Sneha  Female    Yes               0               1\n",
      "10     Raj    Male    Yes               1               1\n",
      "11   Divya  Female     No               0               0\n",
      "12   Kabir    Male    Yes               1               1\n",
      "13  Simran  Female    Yes               0               1\n",
      "14   Karan    Male     No               1               0\n",
      "15   Pooja  Female    Yes               0               1\n",
      "16  Rakesh    Male    Yes               1               1\n",
      "17    Isha  Female     No               0               0\n",
      "18   Rohit    Male    Yes               1               1\n",
      "19   Deepa  Female    Yes               0               1\n"
     ]
    }
   ],
   "source": [
    "from sklearn.preprocessing import LabelEncoder\n",
    "import pandas as pd\n",
    "df = pd.read_csv(\"sample_data.csv\")\n",
    "df_label = df.copy()\n",
    "# Label Encoded\n",
    "le = LabelEncoder()\n",
    "df_label[\"Gender_Encoded\"] = le.fit_transform(df_label[\"Gender\"])\n",
    "df_label[\"Passed_Encoded\"] = le.fit_transform(df_label[\"Passed\"])\n",
    "\n",
    "print(\"\\nLabel Encoded Data\")\n",
    "print(df_label[[\"Name\",\"Gender\",\"Passed\",\"Gender_Encoded\",\"Passed_Encoded\"]])"
   ]
  },
  {
   "cell_type": "code",
   "execution_count": 3,
   "id": "24732e1c",
   "metadata": {},
   "outputs": [
    {
     "name": "stdout",
     "output_type": "stream",
     "text": [
      "\n",
      "One-Hot Encoded Data\n",
      "      Name  Gender Passed  ...  City_Chennai  City_Delhi  City_Mumbai\n",
      "0     Aman    Male    Yes  ...         False        True        False\n",
      "1    Priya  Female    Yes  ...         False       False         True\n",
      "2    Rahul    Male     No  ...         False       False        False\n",
      "3   Anjali  Female    Yes  ...         False       False         True\n",
      "4     Ravi    Male    Yes  ...         False        True        False\n",
      "5    Meera  Female     No  ...          True       False        False\n",
      "6    Arjun    Male    Yes  ...         False       False        False\n",
      "7     Neha  Female    Yes  ...         False        True        False\n",
      "8    Imran    Male     No  ...          True       False        False\n",
      "9    Sneha  Female    Yes  ...         False       False         True\n",
      "10     Raj    Male    Yes  ...          True       False        False\n",
      "11   Divya  Female     No  ...         False        True        False\n",
      "12   Kabir    Male    Yes  ...         False       False         True\n",
      "13  Simran  Female    Yes  ...         False       False        False\n",
      "14   Karan    Male     No  ...         False        True        False\n",
      "15   Pooja  Female    Yes  ...         False       False         True\n",
      "16  Rakesh    Male    Yes  ...          True       False        False\n",
      "17    Isha  Female     No  ...         False        True        False\n",
      "18   Rohit    Male    Yes  ...         False        True        False\n",
      "19   Deepa  Female    Yes  ...         False       False        False\n",
      "\n",
      "[20 rows x 9 columns]\n"
     ]
    }
   ],
   "source": [
    "df_encoded = pd.get_dummies(df_label,columns=[\"City\"])\n",
    "print('\\nOne-Hot Encoded Data')\n",
    "print(df_encoded)"
   ]
  },
  {
   "cell_type": "code",
   "execution_count": null,
   "id": "3e1c01b9",
   "metadata": {},
   "outputs": [
    {
     "ename": "TypeError",
     "evalue": "TransformerMixin.fit_transform() missing 1 required positional argument: 'X'",
     "output_type": "error",
     "traceback": [
      "\u001b[31m---------------------------------------------------------------------------\u001b[39m",
      "\u001b[31mTypeError\u001b[39m                                 Traceback (most recent call last)",
      "\u001b[36mCell\u001b[39m\u001b[36m \u001b[39m\u001b[32mIn[4]\u001b[39m\u001b[32m, line 4\u001b[39m\n\u001b[32m      1\u001b[39m \u001b[38;5;28;01mfrom\u001b[39;00m\u001b[38;5;250m \u001b[39m\u001b[34;01msklearn\u001b[39;00m\u001b[34;01m.\u001b[39;00m\u001b[34;01mpreprocessing\u001b[39;00m\u001b[38;5;250m \u001b[39m\u001b[38;5;28;01mimport\u001b[39;00m StandardScaler,MinMaxScaler\n\u001b[32m      3\u001b[39m scaler = StandardScaler()\n\u001b[32m----> \u001b[39m\u001b[32m4\u001b[39m x_scaled = \u001b[43mscaler\u001b[49m\u001b[43m.\u001b[49m\u001b[43mfit_transform\u001b[49m\u001b[43m(\u001b[49m\u001b[43m)\u001b[49m\n\u001b[32m      6\u001b[39m scaler = MinMaxScaler()\n\u001b[32m      7\u001b[39m x_scaled = scaler.fit_transform()\n",
      "\u001b[31mTypeError\u001b[39m: TransformerMixin.fit_transform() missing 1 required positional argument: 'X'"
     ]
    }
   ],
   "source": [
    "from sklearn.preprocessing import StandardScaler,MinMaxScaler\n",
    "\n",
    "scaler = StandardScaler()\n",
    "x_scaled = scaler.fit_transform()\n",
    "\n",
    "scaler = MinMaxScaler()\n",
    "x_scaled = scaler.fit_transform()"
   ]
  },
  {
   "cell_type": "code",
   "execution_count": null,
   "id": "cc174459",
   "metadata": {},
   "outputs": [],
   "source": [
    "from sklearn.preprocessing import StandardScaler,MinMaxScaler\n",
    "from sklearn.model_selection import train_test_split\n",
    "\n",
    "data = {\n",
    "    'StudyHours':[1,2,3,4,5],\n",
    "    'TestScore':[40,50,60,70,80]\n",
    "}\n",
    "df = pd.DataFrame(data=data)"
   ]
  },
  {
   "cell_type": "code",
   "execution_count": null,
   "id": "c4e7a16c",
   "metadata": {},
   "outputs": [
    {
     "name": "stdout",
     "output_type": "stream",
     "text": [
      "Standard Scaler Output:\n",
      "   StudyHours  TestScore\n",
      "0   -1.414214  -1.414214\n",
      "1   -0.707107  -0.707107\n",
      "2    0.000000   0.000000\n",
      "3    0.707107   0.707107\n",
      "4    1.414214   1.414214\n"
     ]
    }
   ],
   "source": [
    "standard_scaler = StandardScaler()\n",
    "standard_scaled = standard_scaler.fit_transform(df)\n",
    "\n",
    "print(\"Standard Scaler Output:\")\n",
    "print(pd.DataFrame(standard_scaled,columns=[\"StudyHours\",\"TestScore\"]))"
   ]
  },
  {
   "cell_type": "code",
   "execution_count": null,
   "id": "f5cae223",
   "metadata": {},
   "outputs": [
    {
     "name": "stdout",
     "output_type": "stream",
     "text": [
      "\n",
      "MinMax Scaler Output:\n",
      "   StudyHours  TestScore\n",
      "0        0.00       0.00\n",
      "1        0.25       0.25\n",
      "2        0.50       0.50\n",
      "3        0.75       0.75\n",
      "4        1.00       1.00\n"
     ]
    }
   ],
   "source": [
    "minmax_scaler = MinMaxScaler()\n",
    "minmax_scaled = minmax_scaler.fit_transform(df)\n",
    "\n",
    "print(\"\\nMinMax Scaler Output:\")\n",
    "print(pd.DataFrame(minmax_scaled,columns=[\"StudyHours\",\"TestScore\"]))"
   ]
  },
  {
   "cell_type": "code",
   "execution_count": null,
   "id": "e1398365",
   "metadata": {},
   "outputs": [
    {
     "name": "stdout",
     "output_type": "stream",
     "text": [
      "X Training Data:\n",
      "   StudyHours\n",
      "4           5\n",
      "2           3\n",
      "0           1\n",
      "3           4\n",
      "X Test Data\n",
      "   StudyHours\n",
      "1           2\n",
      "Y Training Data:\n",
      "   TestScore\n",
      "4         80\n",
      "2         60\n",
      "0         40\n",
      "3         70\n",
      "Y Test Data\n",
      "   TestScore\n",
      "1         50\n"
     ]
    }
   ],
   "source": [
    "x = df[[\"StudyHours\"]]\n",
    "y = df[[\"TestScore\"]]\n",
    "\n",
    "x_train,x_test,y_train,y_test = train_test_split(x,y,test_size=0.2,random_state=42)\n",
    "\n",
    "print(\"X Training Data:\")\n",
    "print(x_train)\n",
    "print(\"X Test Data\")\n",
    "print(x_test)\n",
    "\n",
    "print(\"Y Training Data:\")\n",
    "print(y_train)\n",
    "print(\"Y Test Data\")\n",
    "print(y_test)"
   ]
  },
  {
   "cell_type": "code",
   "execution_count": null,
   "id": "9d8ef7e2",
   "metadata": {},
   "outputs": [
    {
     "name": "stdout",
     "output_type": "stream",
     "text": [
      "[573.45454545 732.48484848]\n"
     ]
    }
   ],
   "source": [
    "from sklearn.linear_model import LinearRegression\n",
    "\n",
    "X = [[1],[2],[3],[4],[5],[6],[7],[8],[9],[10]]\n",
    "y = [20,40,60,80,100,140,180,220,300,420]\n",
    "\n",
    "model = LinearRegression()\n",
    "model.fit(X,y)\n",
    "\n",
    "\n",
    "prediction = model.predict([[16],[20]])\n",
    "print(prediction)\n"
   ]
  },
  {
   "cell_type": "code",
   "execution_count": null,
   "id": "76607392",
   "metadata": {},
   "outputs": [
    {
     "name": "stdout",
     "output_type": "stream",
     "text": [
      "[1 1]\n"
     ]
    }
   ],
   "source": [
    "from sklearn.linear_model import LogisticRegression\n",
    "X = [[1],[2],[3],[4],[5]]\n",
    "y = [0,0,1,1,1]\n",
    "\n",
    "model = LogisticRegression()\n",
    "model.fit(X,y)\n",
    "\n",
    "prediction = model.predict([[-100],[80]])\n",
    "print(prediction)"
   ]
  },
  {
   "cell_type": "code",
   "execution_count": null,
   "id": "f185869d",
   "metadata": {},
   "outputs": [
    {
     "name": "stdout",
     "output_type": "stream",
     "text": [
      "[0 0 0 0]\n"
     ]
    }
   ],
   "source": [
    "from sklearn.neighbors import KNeighborsClassifier\n",
    "X = [\n",
    "    [100,5],\n",
    "    [200,6],\n",
    "    [300,7],\n",
    "    [400,8],\n",
    "    [400,8.5],\n",
    "    [509,8.5],\n",
    "    [600,9],\n",
    "    [600,1],\n",
    "    [600,8]\n",
    "]\n",
    "y = [0,0,0,0,1,1,1,0,0]\n",
    "\n",
    "model = KNeighborsClassifier(n_neighbors=3)\n",
    "model.fit(X,y)\n",
    "\n",
    "prediction = model.predict([[300,9],[600,10],[100,9.5],[600,1]])\n",
    "print(prediction)"
   ]
  },
  {
   "cell_type": "code",
   "execution_count": null,
   "id": "6adbeed4",
   "metadata": {},
   "outputs": [
    {
     "name": "stdout",
     "output_type": "stream",
     "text": [
      "[0]\n"
     ]
    }
   ],
   "source": [
    "from sklearn.tree import DecisionTreeClassifier\n",
    "X = [\n",
    "    [7,2],\n",
    "    [8,3],\n",
    "    [9,4],\n",
    "    [10,6],\n",
    "    [12,8],\n",
    "    [14,9]\n",
    "]\n",
    "y = [0,0,0,1,1,1]\n",
    "\n",
    "model = DecisionTreeClassifier()\n",
    "model.fit(X,y)\n",
    "\n",
    "size = 12\n",
    "shade = 69\n",
    "\n",
    "prediction = model.predict([[size,shade]])\n",
    "print(prediction)"
   ]
  }
 ],
 "metadata": {
  "kernelspec": {
   "display_name": "venv",
   "language": "python",
   "name": "python3"
  },
  "language_info": {
   "codemirror_mode": {
    "name": "ipython",
    "version": 3
   },
   "file_extension": ".py",
   "mimetype": "text/x-python",
   "name": "python",
   "nbconvert_exporter": "python",
   "pygments_lexer": "ipython3",
   "version": "3.13.3"
  }
 },
 "nbformat": 4,
 "nbformat_minor": 5
}
