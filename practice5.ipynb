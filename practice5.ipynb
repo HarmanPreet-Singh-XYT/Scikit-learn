{
 "cells": [
  {
   "cell_type": "code",
   "execution_count": 33,
   "id": "5e760e70",
   "metadata": {},
   "outputs": [
    {
     "name": "stderr",
     "output_type": "stream",
     "text": [
      "<>:2: SyntaxWarning: invalid escape sequence '\\e'\n",
      "<>:2: SyntaxWarning: invalid escape sequence '\\e'\n",
      "C:\\Users\\preet\\AppData\\Local\\Temp\\ipykernel_18392\\758398634.py:2: SyntaxWarning: invalid escape sequence '\\e'\n",
      "  data = pd.read_csv(\"data\\enhanced_fever_medicine_recommendation.csv\")\n"
     ]
    }
   ],
   "source": [
    "import pandas as pd\n",
    "data = pd.read_csv(\"data\\enhanced_fever_medicine_recommendation.csv\")\n",
    "df = data.copy()\n",
    "df.fillna({\"Previous_Medication\":\"None\"},inplace=True)"
   ]
  },
  {
   "cell_type": "code",
   "execution_count": 34,
   "id": "14710fa4",
   "metadata": {},
   "outputs": [],
   "source": [
    "from sklearn.preprocessing import OrdinalEncoder,OneHotEncoder,StandardScaler\n",
    "ordinal_features = [\"Fever_Severity\",\"Physical_Activity\",\"Blood_Pressure\"]\n",
    "nomincal_features = [\"Headache\",\"Body_Ache\",\"Fatigue\",\"Chronic_Conditions\",\"Allergies\",\"Smoking_History\",\"Alcohol_Consumption\",\"Gender\",\"Diet_Type\",\"Previous_Medication\"]\n",
    "numeric_features = [\"Temperature\",\"BMI\",\"Age\",\"Humidity\",\"AQI\",\"Heart_Rate\"]\n",
    "\n",
    "ordinal_categories = [\n",
    "    [\"Normal\",\"Mild Fever\",\"High Fever\"],\n",
    "    [\"Sedentary\",\"Moderate\",\"Active\"],\n",
    "    [\"Low\",\"Normal\",\"High\"],\n",
    "]\n",
    "\n",
    "numeric_transformer = StandardScaler()\n",
    "nomincal_transformer = OneHotEncoder(handle_unknown=\"ignore\")\n",
    "ordinal_transformer = OrdinalEncoder(categories=ordinal_categories)"
   ]
  },
  {
   "cell_type": "code",
   "execution_count": 35,
   "id": "0f3c3ae7",
   "metadata": {},
   "outputs": [],
   "source": [
    "from sklearn.compose import ColumnTransformer\n",
    "from sklearn.pipeline import Pipeline\n",
    "from sklearn.tree import DecisionTreeClassifier\n",
    "\n",
    "preprocessor = ColumnTransformer(\n",
    "    transformers=[\n",
    "        (\"num\",numeric_transformer,numeric_features),\n",
    "        (\"nom\",nomincal_transformer,nomincal_features),\n",
    "        (\"ord\",ordinal_transformer,ordinal_features)\n",
    "    ]\n",
    ")\n",
    "\n",
    "clf = Pipeline(\n",
    "    steps=[\n",
    "        (\"preprocessor\",preprocessor),\n",
    "        (\"classifier\",DecisionTreeClassifier())\n",
    "    ]\n",
    ")"
   ]
  },
  {
   "cell_type": "code",
   "execution_count": 36,
   "id": "bada5ebb",
   "metadata": {},
   "outputs": [],
   "source": [
    "from sklearn.model_selection import train_test_split\n",
    "from sklearn.preprocessing import LabelEncoder\n",
    "le = LabelEncoder()\n",
    "\n",
    "X = df.drop(columns=[\"Recommended_Medication\"],axis=1)\n",
    "y = le.fit_transform(df[\"Recommended_Medication\"])\n",
    "\n",
    "X_train,X_test,y_train,y_test = train_test_split(X,y,test_size=0.2,random_state=42)\n",
    "clf.fit(X_train,y_train)\n",
    "\n",
    "prediction = clf.predict(X_test)"
   ]
  },
  {
   "cell_type": "code",
   "execution_count": 37,
   "id": "a52f30b7",
   "metadata": {},
   "outputs": [
    {
     "name": "stdout",
     "output_type": "stream",
     "text": [
      "Accuracy Score:  1.0\n",
      "Precision Score:  1.0\n",
      "F1 Score:  1.0\n",
      "Confusion Matrix:  [[165   0]\n",
      " [  0  35]]\n"
     ]
    }
   ],
   "source": [
    "from sklearn.metrics import confusion_matrix,accuracy_score,precision_score,f1_score\n",
    "print(\"Accuracy Score: \",accuracy_score(y_test,prediction))\n",
    "print(\"Precision Score: \",precision_score(y_test,prediction))\n",
    "print(\"F1 Score: \",f1_score(y_test,prediction))\n",
    "print(\"Confusion Matrix: \",confusion_matrix(y_test,prediction))"
   ]
  }
 ],
 "metadata": {
  "kernelspec": {
   "display_name": "venv",
   "language": "python",
   "name": "python3"
  },
  "language_info": {
   "codemirror_mode": {
    "name": "ipython",
    "version": 3
   },
   "file_extension": ".py",
   "mimetype": "text/x-python",
   "name": "python",
   "nbconvert_exporter": "python",
   "pygments_lexer": "ipython3",
   "version": "3.13.3"
  }
 },
 "nbformat": 4,
 "nbformat_minor": 5
}
