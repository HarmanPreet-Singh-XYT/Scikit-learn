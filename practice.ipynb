{
 "cells": [
  {
   "cell_type": "code",
   "execution_count": 3,
   "id": "3de4a604",
   "metadata": {},
   "outputs": [
    {
     "name": "stdout",
     "output_type": "stream",
     "text": [
      "   Gender  Gender_Encoded\n",
      "0    Male               1\n",
      "1  Female               0\n",
      "2    Male               1\n",
      "3  Female               0\n",
      "4    Male               1\n",
      "5  Female               0\n",
      "6    Male               1\n",
      "7  Female               0\n",
      "8    Male               1\n",
      "9  Female               0\n"
     ]
    }
   ],
   "source": [
    "import pandas as pd\n",
    "import numpy as np\n",
    "from sklearn.preprocessing import MinMaxScaler,LabelEncoder, StandardScaler\n",
    "from sklearn.model_selection import train_test_split\n",
    "\n",
    "data = pd.read_csv(\"sample_data2.csv\")\n",
    "df_label = data.copy()\n",
    "\n",
    "le = LabelEncoder()\n",
    "df_label[\"Gender_Encoded\"] = le.fit_transform(df_label[\"Gender\"])\n",
    "\n",
    "print(df_label[[\"Gender\",\"Gender_Encoded\"]])\n"
   ]
  },
  {
   "cell_type": "code",
   "execution_count": 4,
   "id": "acce0c0f",
   "metadata": {},
   "outputs": [
    {
     "name": "stdout",
     "output_type": "stream",
     "text": [
      "   ID             Name  Age  Gender  Salary JoiningDate  Gender_Encoded  \\\n",
      "0   1       John Smith   29    Male   75000  2020-03-15               1   \n",
      "1   2    Sarah Johnson   34  Female   68000  2019-07-01               0   \n",
      "2   3    Michael Brown   41    Male   82000  2018-11-20               1   \n",
      "3   4      Emily Davis   26  Female   72000  2021-06-10               0   \n",
      "4   5     David Wilson   37    Male   65000  2017-09-05               1   \n",
      "5   6     Linda Taylor   30  Female   77000  2020-01-22               0   \n",
      "6   7   James Anderson   45    Male   91000  2015-05-18               1   \n",
      "7   8  Patricia Thomas   28  Female   64000  2022-02-12               0   \n",
      "8   9   Robert Jackson   32    Male   70000  2019-10-30               1   \n",
      "9  10    Barbara White   39  Female   73000  2016-12-03               0   \n",
      "\n",
      "   Department_Engineering  Department_Finance  Department_Human Resources  \\\n",
      "0                    True               False                       False   \n",
      "1                   False               False                       False   \n",
      "2                   False                True                       False   \n",
      "3                    True               False                       False   \n",
      "4                   False               False                        True   \n",
      "5                    True               False                       False   \n",
      "6                   False                True                       False   \n",
      "7                   False               False                       False   \n",
      "8                   False               False                       False   \n",
      "9                   False               False                       False   \n",
      "\n",
      "   Department_Marketing  Department_Sales  \n",
      "0                 False             False  \n",
      "1                  True             False  \n",
      "2                 False             False  \n",
      "3                 False             False  \n",
      "4                 False             False  \n",
      "5                 False             False  \n",
      "6                 False             False  \n",
      "7                  True             False  \n",
      "8                 False              True  \n",
      "9                 False              True  \n"
     ]
    }
   ],
   "source": [
    "data = pd.get_dummies(df_label,columns=[\"Department\"])\n",
    "print(data)"
   ]
  },
  {
   "cell_type": "code",
   "execution_count": 10,
   "id": "a8a9f725",
   "metadata": {},
   "outputs": [
    {
     "name": "stdout",
     "output_type": "stream",
     "text": [
      "   StudyHours  TestScore\n",
      "0   -1.414214  -1.414214\n",
      "1   -0.707107  -0.707107\n",
      "2    0.000000   0.000000\n",
      "3    0.707107   0.707107\n",
      "4    1.414214   1.414214\n"
     ]
    }
   ],
   "source": [
    "data = {\n",
    "    'StudyHours':[1,2,3,4,5],\n",
    "    'TestScore':[40,50,60,70,80]\n",
    "}\n",
    "df = pd.DataFrame(data=data)\n",
    "\n",
    "standard_scaler = StandardScaler()\n",
    "standard_scaled = standard_scaler.fit_transform(df)\n",
    "\n",
    "print(pd.DataFrame(standard_scaled,columns=[\"StudyHours\",\"TestScore\"]))"
   ]
  },
  {
   "cell_type": "code",
   "execution_count": 11,
   "id": "75850296",
   "metadata": {},
   "outputs": [
    {
     "name": "stdout",
     "output_type": "stream",
     "text": [
      "   StudyHours  TestScore\n",
      "0        0.00       0.00\n",
      "1        0.25       0.25\n",
      "2        0.50       0.50\n",
      "3        0.75       0.75\n",
      "4        1.00       1.00\n"
     ]
    }
   ],
   "source": [
    "minMax_scaler = MinMaxScaler()\n",
    "minMax_scaled = minMax_scaler.fit_transform(df)\n",
    "\n",
    "print(pd.DataFrame(minMax_scaled,columns=[\"StudyHours\",\"TestScore\"]))"
   ]
  },
  {
   "cell_type": "code",
   "execution_count": 13,
   "id": "d3ca749a",
   "metadata": {},
   "outputs": [
    {
     "name": "stdout",
     "output_type": "stream",
     "text": [
      "Shape of X_train: (4,)\n",
      "Shape of X_test: (1,)\n",
      "Shape of y_train: (4,)\n",
      "Shape of y_test: (1,)\n"
     ]
    }
   ],
   "source": [
    "x = df[\"StudyHours\"]\n",
    "y = df[\"TestScore\"]\n",
    "x_train,x_test,y_train,y_test = train_test_split(x,y,test_size=0.2,random_state=42)\n",
    "print(f\"Shape of X_train: {x_train.shape}\")\n",
    "print(f\"Shape of X_test: {x_test.shape}\")\n",
    "print(f\"Shape of y_train: {y_train.shape}\")\n",
    "print(f\"Shape of y_test: {y_test.shape}\")"
   ]
  }
 ],
 "metadata": {
  "kernelspec": {
   "display_name": "venv",
   "language": "python",
   "name": "python3"
  },
  "language_info": {
   "codemirror_mode": {
    "name": "ipython",
    "version": 3
   },
   "file_extension": ".py",
   "mimetype": "text/x-python",
   "name": "python",
   "nbconvert_exporter": "python",
   "pygments_lexer": "ipython3",
   "version": "3.13.3"
  }
 },
 "nbformat": 4,
 "nbformat_minor": 5
}
