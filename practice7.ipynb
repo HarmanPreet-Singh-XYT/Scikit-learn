{
 "cells": [
  {
   "cell_type": "code",
   "execution_count": 25,
   "id": "d5e88ce6",
   "metadata": {},
   "outputs": [],
   "source": [
    "import pandas as pd\n",
    "data = pd.read_csv(\"data/student_data.csv\")\n",
    "df = data.copy().drop(columns=[\"Passed\"])"
   ]
  },
  {
   "cell_type": "code",
   "execution_count": 26,
   "id": "1b24297f",
   "metadata": {},
   "outputs": [],
   "source": [
    "from sklearn.preprocessing import StandardScaler,LabelEncoder\n",
    "\n",
    "numeric_features = [\"StudyHours\",\"Attendance\",\"PastScore\",\"StudyHours\"]\n",
    "label_features = [\"Internet\"]\n",
    "\n",
    "le = LabelEncoder()\n",
    "std = StandardScaler()"
   ]
  },
  {
   "cell_type": "code",
   "execution_count": 27,
   "id": "656857d1",
   "metadata": {},
   "outputs": [
    {
     "name": "stderr",
     "output_type": "stream",
     "text": [
      "c:\\Projects\\Scikit\\venv\\Lib\\site-packages\\sklearn\\preprocessing\\_label.py:110: DataConversionWarning: A column-vector y was passed when a 1d array was expected. Please change the shape of y to (n_samples, ), for example using ravel().\n",
      "  y = column_or_1d(y, warn=True)\n"
     ]
    }
   ],
   "source": [
    "numeric_data = std.fit_transform(df[numeric_features])\n",
    "label_data = le.fit_transform(df[label_features])"
   ]
  },
  {
   "cell_type": "code",
   "execution_count": 36,
   "id": "c05851fa",
   "metadata": {},
   "outputs": [
    {
     "name": "stdout",
     "output_type": "stream",
     "text": [
      "        PCA1      PCA2\n",
      "0  -1.968445  0.600175\n",
      "1  -0.041122  0.031837\n",
      "2   1.802576  0.001817\n",
      "3  -1.102459  0.705283\n",
      "4   1.041712 -0.332211\n",
      "5  -2.987894  0.047900\n",
      "6   0.610960  0.221274\n",
      "7  -0.912455 -0.130563\n",
      "8   2.409976 -0.111323\n",
      "9  -2.380494 -0.065240\n",
      "10  0.133387  0.449266\n",
      "11 -0.070258  1.555355\n",
      "12 -3.774344 -0.721427\n",
      "13 -1.297659 -0.429288\n",
      "14  1.931334  0.105211\n",
      "15  1.725906  0.441503\n",
      "16  0.747560 -0.342003\n",
      "17  0.933985 -1.711656\n",
      "18  2.938197 -0.307124\n",
      "19  2.768787  0.159848\n",
      "20 -2.509252 -0.168634\n"
     ]
    }
   ],
   "source": [
    "from sklearn.decomposition import PCA\n",
    "from sklearn.cluster import KMeans\n",
    "pca = PCA(n_components=2)\n",
    "df1 = pd.DataFrame(numeric_data)\n",
    "df2 = pd.DataFrame(label_data)\n",
    "data = pd.concat([df1, df2], axis=1)\n",
    "\n",
    "pca_result = pca.fit_transform(data)\n",
    "\n",
    "kmeans = KMeans(n_clusters=3,random_state=42)\n",
    "clusters = kmeans.fit_predict(pca_result)\n",
    "\n",
    "pca_df = pd.DataFrame(pca_result,columns=[\"PCA1\",\"PCA2\"])\n",
    "print(pca_df)"
   ]
  }
 ],
 "metadata": {
  "kernelspec": {
   "display_name": "venv",
   "language": "python",
   "name": "python3"
  },
  "language_info": {
   "codemirror_mode": {
    "name": "ipython",
    "version": 3
   },
   "file_extension": ".py",
   "mimetype": "text/x-python",
   "name": "python",
   "nbconvert_exporter": "python",
   "pygments_lexer": "ipython3",
   "version": "3.13.3"
  }
 },
 "nbformat": 4,
 "nbformat_minor": 5
}
