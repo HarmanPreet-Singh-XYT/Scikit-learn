{
 "cells": [
  {
   "cell_type": "code",
   "execution_count": 56,
   "id": "4befd321",
   "metadata": {},
   "outputs": [],
   "source": [
    "import pandas as pd\n",
    "data = pd.read_csv(\"data/StudentPerformanceFactors.csv\")\n",
    "df = data.copy()\n",
    "df.fillna({\"Distance_from_Home\":\"Moderate\",\"Parental_Education_Level\":\"College\",\"Teacher_Quality\":\"Medium\"},inplace=True)"
   ]
  },
  {
   "cell_type": "code",
   "execution_count": 57,
   "id": "5a9e5036",
   "metadata": {},
   "outputs": [],
   "source": [
    "from sklearn.preprocessing import OneHotEncoder, OrdinalEncoder, StandardScaler\n",
    "\n",
    "nominal_features = [\"Extracurricular_Activities\",\"Internet_Access\",\"School_Type\",\"Learning_Disabilities\",\"Gender\"]\n",
    "numeric_features = [\"Hours_Studied\",\"Attendance\",\"Sleep_Hours\",\"Previous_Scores\",\"Tutoring_Sessions\",\"Physical_Activity\"]\n",
    "# Your ordinal columns\n",
    "categorical_ordinal = [\n",
    "    \"Parental_Involvement\",\n",
    "    \"Access_to_Resources\",\n",
    "    \"Motivation_Level\",\n",
    "    \"Family_Income\",\n",
    "    \"Teacher_Quality\",\n",
    "    \"Peer_Influence\",\n",
    "    \"Parental_Education_Level\",\n",
    "    \"Distance_from_Home\"\n",
    "]\n",
    "\n",
    "# Define order for each column\n",
    "ordinal_categories = [\n",
    "    [\"Low\", \"Medium\", \"High\"],         # Parental_Involvement\n",
    "    [\"Low\", \"Medium\", \"High\"],         # Access_to_Resources\n",
    "    [\"Low\", \"Medium\", \"High\"],         # Motivation_Level\n",
    "    [\"Low\", \"Medium\", \"High\"],         # Family_Income\n",
    "    [\"Low\", \"Medium\", \"High\"],         # Teacher_Quality\n",
    "    [\"Negative\", \"Neutral\", \"Positive\"], # Peer_Influence\n",
    "    [\"High School\", \"College\", \"Postgraduate\"], # Parental_Education_Level\n",
    "    [\"Near\", \"Moderate\", \"Far\"]        # Distance_from_Home\n",
    "]\n",
    "\n",
    "ordinal_transformer = OrdinalEncoder(categories=ordinal_categories)\n",
    "numeric_transformer = StandardScaler()\n",
    "nominal_transformer = OneHotEncoder(handle_unknown=\"ignore\")"
   ]
  },
  {
   "cell_type": "code",
   "execution_count": 58,
   "id": "da7ef1a9",
   "metadata": {},
   "outputs": [],
   "source": [
    "from sklearn.pipeline import Pipeline\n",
    "from sklearn.compose import ColumnTransformer\n",
    "from sklearn.linear_model import LinearRegression\n",
    "\n",
    "preprocessor = ColumnTransformer(\n",
    "    transformers=[\n",
    "        (\"num\",numeric_transformer,numeric_features),\n",
    "        (\"nom\",nominal_transformer,nominal_features),\n",
    "        (\"ord\", ordinal_transformer, categorical_ordinal)\n",
    "    ]\n",
    ")\n",
    "clf = Pipeline(steps=[\n",
    "    (\"preprocessor\",preprocessor),\n",
    "    (\"classifier\",LinearRegression())\n",
    "])"
   ]
  },
  {
   "cell_type": "code",
   "execution_count": 59,
   "id": "d4b4b60a",
   "metadata": {},
   "outputs": [],
   "source": [
    "from sklearn.model_selection import train_test_split\n",
    "\n",
    "X = df.drop(columns=[\"Exam_Score\"],axis=1,inplace=False)\n",
    "y = df[\"Exam_Score\"]\n",
    "\n",
    "X_train,X_test,y_train,y_test = train_test_split(X,y,train_size=0.9,test_size=0.1,random_state=42)\n",
    "clf.fit(X_train,y_train)\n",
    "prediction = clf.predict(X_test)"
   ]
  },
  {
   "cell_type": "code",
   "execution_count": 60,
   "id": "1ee8e276",
   "metadata": {},
   "outputs": [
    {
     "name": "stdout",
     "output_type": "stream",
     "text": [
      "Mean Absolute Error (MAE): 0.38729788275799215\n",
      "Mean Squared Error (MSE): 1.9401266495082075\n",
      "Root Mean Squared Error (RMSE): 1.3928842915002695\n",
      "R² Score: 0.8557371641602192\n"
     ]
    }
   ],
   "source": [
    "from sklearn.metrics import mean_absolute_error, mean_squared_error, r2_score\n",
    "import numpy as np\n",
    "\n",
    "mae = mean_absolute_error(y_test, prediction)\n",
    "mse = mean_squared_error(y_test, prediction)\n",
    "rmse = np.sqrt(mse)\n",
    "r2 = r2_score(y_test, prediction)\n",
    "\n",
    "print(\"Mean Absolute Error (MAE):\", mae)\n",
    "print(\"Mean Squared Error (MSE):\", mse)\n",
    "print(\"Root Mean Squared Error (RMSE):\", rmse)\n",
    "print(\"R² Score:\", r2)\n"
   ]
  }
 ],
 "metadata": {
  "kernelspec": {
   "display_name": "venv",
   "language": "python",
   "name": "python3"
  },
  "language_info": {
   "codemirror_mode": {
    "name": "ipython",
    "version": 3
   },
   "file_extension": ".py",
   "mimetype": "text/x-python",
   "name": "python",
   "nbconvert_exporter": "python",
   "pygments_lexer": "ipython3",
   "version": "3.13.3"
  }
 },
 "nbformat": 4,
 "nbformat_minor": 5
}
